{
 "cells": [
  {
   "cell_type": "markdown",
   "metadata": {},
   "source": [
    "# test notebook"
   ]
  },
  {
   "cell_type": "code",
   "execution_count": 2,
   "metadata": {},
   "outputs": [
    {
     "name": "stderr",
     "output_type": "stream",
     "text": [
      "/Users/owen/work_projects/equal_experts/env_ee4/lib/python3.11/site-packages/tqdm/auto.py:21: TqdmWarning: IProgress not found. Please update jupyter and ipywidgets. See https://ipywidgets.readthedocs.io/en/stable/user_install.html\n",
      "  from .autonotebook import tqdm as notebook_tqdm\n",
      "DEBUG:pymilvus.milvus_client.milvus_client:Created new connection using: 488bfa8a901440b58ee65af7de0acbfd\n",
      "INFO:sentence_transformers.SentenceTransformer:Load pretrained SentenceTransformer: sentence-transformers/all-MiniLM-L6-v2\n",
      "/Users/owen/work_projects/equal_experts/env_ee4/lib/python3.11/site-packages/huggingface_hub/file_download.py:1132: FutureWarning: `resume_download` is deprecated and will be removed in version 1.0.0. Downloads always resume when possible. If you want to force a new download, use `force_download=True`.\n",
      "  warnings.warn(\n"
     ]
    },
    {
     "data": {
      "text/plain": [
       "True"
      ]
     },
     "execution_count": 2,
     "metadata": {},
     "output_type": "execute_result"
    }
   ],
   "source": [
    "import logging\n",
    "import numpy as np\n",
    "import pandas as pd\n",
    "import ast\n",
    "from dotenv import load_dotenv\n",
    "from openai import OpenAI\n",
    "import os\n",
    "\n",
    "from src import rag\n",
    "load_dotenv()"
   ]
  },
  {
   "cell_type": "code",
   "execution_count": 3,
   "metadata": {},
   "outputs": [
    {
     "name": "stderr",
     "output_type": "stream",
     "text": [
      "INFO:root:id 90 distance 0.287 After the successful Browse frontend migration, demand for JLDP quickly grew. To adapt, the JLDP team built a fully automated, self-service pathway for service teams. They made it as easy as possible to create API microservices and frontends, to coalesce into digital services. This was something that could be scalable for Black Friday customer traffic, and give teams the tools they needed to get up and running quickly. John Lewis Digital Platform is a differentiating product, not a one off commo\n",
      "INFO:root:id 31 distance 0.266 y to daily, to improve customer experience and maximise revenue. improve johnlewis.com reliability from 99.0% to 99.9%, and time to resolution from 2 hours to less than 45 mins, to minimise revenue loss and costs during major incidents. encourage teams to increase quality and share a body of accumulated knowledge, to reduce unplanned BAU work.  As part of this work, Equal Experts was asked to help create a step change in technology operations. At the time, John Lewis & Partners had separate Deli\n",
      "INFO:root:id 177 distance 0.264 transaction service: which produces and consumes events to facilitate customer orders and accept various payments. reporting service: primarily used by merchants in a self-service portal, producing and consuming events for real-time display of transaction and payment information across a variety of channels. risk assessment service: which produces and consumes events while determining the potential risk associated with orders and payments. notification service: which produces and consumes events\n",
      "INFO:root:id 266 distance 0.259 il had to be maintained. This was achieved through documenting what they were releasing and why they were doing it, and, encapsulated in JIRA tickets then linked and stored in Git to provide a single, and fully traceable, source of truth. For Continuous Delivery a key metric is time to production. To avoid an emphasis on velocity causing a proliferation of bugs, the team relied on feature flags. The aim was to ensure new features didn’t break the old ones, and this was achieved by integrating te\n",
      "INFO:root:id 55 distance 0.258 inuous delivery, employed kanban-style working with a strict standup and ticket discipline. The team was the first to adopt You Build It You Run It at John Lewis & Partners, and first to use the Paved Road on the John Lewis & Partners Digital Platform (JLDP).  The team started with three microservices, and one Elasticsearch cluster. This more than doubled, with new microservices being added when it was obvious a technical challenge was becoming a separate capability.Peak 2018 at 1% When there ar\n"
     ]
    },
    {
     "data": {
      "text/plain": [
       "data: [\"[{'id': 90, 'distance': 0.28714263439178467, 'entity': {'text': 'After the successful Browse frontend migration, demand for JLDP quickly grew. To adapt, the JLDP team built a fully automated, self-service pathway for service teams. They made it as easy as possible to create API microservices and frontends, to coalesce into digital services. This was something that could be scalable for Black Friday customer traffic, and give teams the tools they needed to get up and running quickly. John Lewis Digital Platform is a differentiating product, not a one off commo', 'subject': 'equal experts', 'id': 90}}, {'id': 31, 'distance': 0.2659321427345276, 'entity': {'text': 'y to daily, to improve customer experience and maximise revenue. improve johnlewis.com reliability from 99.0% to 99.9%, and time to resolution from 2 hours to less than 45 mins, to minimise revenue loss and costs during major incidents. encourage teams to increase quality and share a body of accumulated knowledge, to reduce unplanned BAU work.  As part of this work, Equal Experts was asked to help create a step change in technology operations. At the time, John Lewis & Partners had separate Deli', 'subject': 'equal experts', 'id': 31}}, {'id': 177, 'distance': 0.2636567950248718, 'entity': {'text': 'transaction service: which produces and consumes events to facilitate customer orders and accept various payments. reporting service: primarily used by merchants in a self-service portal, producing and consuming events for real-time display of transaction and payment information across a variety of channels. risk assessment service: which produces and consumes events while determining the potential risk associated with orders and payments. notification service: which produces and consumes events', 'subject': 'equal experts', 'id': 177}}, {'id': 266, 'distance': 0.2587490677833557, 'entity': {'text': 'il had to be maintained. This was achieved through documenting what they were releasing and why they were doing it, and, encapsulated in JIRA tickets then linked and stored in Git to provide a single, and fully traceable, source of truth. For Continuous Delivery a key metric is time to production. To avoid an emphasis on velocity causing a proliferation of bugs, the team relied on feature flags. The aim was to ensure new features didn’t break the old ones, and this was achieved by integrating te', 'subject': 'equal experts', 'id': 266}}, {'id': 55, 'distance': 0.2580314576625824, 'entity': {'text': 'inuous delivery, employed kanban-style working with a strict standup and ticket discipline. The team was the first to adopt You Build It You Run It at John Lewis & Partners, and first to use the Paved Road on the John Lewis & Partners Digital Platform (JLDP).  The team started with three microservices, and one Elasticsearch cluster. This more than doubled, with new microservices being added when it was obvious a technical challenge was becoming a separate capability.Peak 2018 at 1% When there ar', 'subject': 'equal experts', 'id': 55}}]\"] , extra_info: {'cost': 0}"
      ]
     },
     "execution_count": 3,
     "metadata": {},
     "output_type": "execute_result"
    }
   ],
   "source": [
    "rag.retrieve_chunks(\"what is the JDLP?\")"
   ]
  },
  {
   "cell_type": "code",
   "execution_count": 4,
   "metadata": {},
   "outputs": [
    {
     "name": "stderr",
     "output_type": "stream",
     "text": [
      "INFO:root:using model: gpt-4o-mini\n",
      "huggingface/tokenizers: The current process just got forked, after parallelism has already been used. Disabling parallelism to avoid deadlocks...\n",
      "To disable this warning, you can either:\n",
      "\t- Avoid using `tokenizers` before the fork if possible\n",
      "\t- Explicitly set the environment variable TOKENIZERS_PARALLELISM=(true | false)\n",
      "INFO:root:query : What is the capital of France?\n",
      "INFO:root:answer: I don't know.\n"
     ]
    },
    {
     "data": {
      "text/plain": [
       "[{'query_id': 0,\n",
       "  'query': 'What is the capital of France?',\n",
       "  'doc_id': None,\n",
       "  'chunk_ids': [151, 280, 26, 248, 125],\n",
       "  'contexts': ['c content assets. It’s also an important tool for the conversation designers to understand user utterances and prepare new datasets to train the AI model. The project to rebuild the app in Flutter is also well in progress and we have gone live with a ‘Let’s Speak English’ English language practice app. This will facilitate a wider user base. The next important milestone will be in early 2022 when the plan is to release the surfing-themed app through Flutter to paid subscribers. It was the cohesi',\n",
       "   'ould be accessed by the team, anywhere in the world, giving a single point in time view of development activities and operability of the system.',\n",
       "   'antly capitalise on them when they DO.Summary The choice of whether to begin with a digital proposition on the web or a mobile app isn’t necessarily an obvious one. The web is the fastest and most well understood route to the broadest number of platforms, but isn’t always the way to achieve the broadest customer adoption and engagement. A Fast Follower strategy, together with a cloud-native, API-first approach gave Pret the flexibility to go to market fast with their strategic plans with short f',\n",
       "   'Day 1: A strategy defined Working remotely due to coronavirus restrictions, the Chiesi executive team met via a Zoom session and virtual whiteboard, facilitated by two Equal Experts Strategic Advisors. The intent: to take Chiesi to the next level by embracing the opportunities and challenges of the digital world. By the end of what proved to be an extremely collaborative and productive day, the team had established and agreed on their five long term goals. Aligned with these goals, nineteen sign',\n",
       "   ': “Allocating scarce resources is a challenge faced by all countries. MeasureSMS has enabled us and our partners in endemic countries to identify areas of high disease burden, so that resources can be targeted to support those suffering from disabling, life limiting conditions.”Rebuilding to modernise in a basic android world Following a major incident which resulted in losing the legacy platform behind MeasureSMS, LSTM needed to completely rebuild with modern technologies, to reinstate and impr'],\n",
       "  'answer': \"I don't know.\"}]"
      ]
     },
     "execution_count": 4,
     "metadata": {},
     "output_type": "execute_result"
    }
   ],
   "source": [
    "rag.query_rag(\"What is the capital of France?\")"
   ]
  },
  {
   "cell_type": "code",
   "execution_count": 5,
   "metadata": {},
   "outputs": [
    {
     "name": "stderr",
     "output_type": "stream",
     "text": [
      "INFO:root:using model: gpt-4o-mini\n",
      "INFO:root:query : What challenges did Mendeley have ?\n",
      "INFO:root:answer: Mendeley faced challenges related to increased complexity and inconsistency of data as it transitioned from a start-up to a more established business after its acquisition by Elsevier. Additionally, it had an incomplete view of its overall digital architecture, which hindered effective decision-making.\n"
     ]
    },
    {
     "data": {
      "text/plain": [
       "[{'query_id': 0,\n",
       "  'query': 'What challenges did Mendeley have ?',\n",
       "  'doc_id': None,\n",
       "  'chunk_ids': [312, 306, 307, 308, 311],\n",
       "  'contexts': [' a different type of business problem. Before, Mendeley had an incomplete view of its overall digital architecture. Now, it has a complete understanding. This means the business can make better decisions about technology choices now and in the future.',\n",
       "   'S and Android. Following the acquisition by Elsevier in 2013, Mendeley found itself experiencing challenges. These were the kinds of challenges that can be expected by a company transitioning from a start-up to a more established business – and they are all accompanied by an increased degree of complexity and inconsistency of data. Mendeley approached Equal Experts to identify any organisational problems that existed – and to propose solutions. This included:  Investigating assumptions around th',\n",
       "   'roblems that existed – and to propose solutions. This included:  Investigating assumptions around the (perceived) status quo of the current Mendeley infrastructure and codebase. Production of technical diagrams and documentation to show the actual current state. Presenting recommendations that would enable Mendeley to move forwards more efficiently and effectively.Effectively gathering data – or how ‘brain dumps’ light the way. To begin we conducted interviews with staff across all of Mendeley’s',\n",
       "   'ow ‘brain dumps’ light the way. To begin we conducted interviews with staff across all of Mendeley’s technological areas. These conversations, or ‘brain dumps,’ allowed Equal Experts to gather together a complete knowledge of Mendeley’s technical landscape, offering a view of all current projects, their purposes, tools and processes being used, issues and successes as well as any associated code repositories. This analysis highlighted an unnecessarily high level of customisation and use of niche',\n",
       "   ' is a great goal to aim for, but it shouldn’t come at the cost of a loss in productivity, or the ability to change. Adopt a consistent approach to similar problems. While we support team autonomy, working in total isolation is undesirable.A clear path for better future decision making. This was not a software delivery project. Instead Equal Experts used expertise in technology and process to solve a different type of business problem. Before, Mendeley had an incomplete view of its overall digita'],\n",
       "  'answer': 'Mendeley faced challenges related to increased complexity and inconsistency of data as it transitioned from a start-up to a more established business after its acquisition by Elsevier. Additionally, it had an incomplete view of its overall digital architecture, which hindered effective decision-making.'}]"
      ]
     },
     "execution_count": 5,
     "metadata": {},
     "output_type": "execute_result"
    }
   ],
   "source": [
    "rag.query_rag(\"What challenges did Mendeley have ?\")"
   ]
  },
  {
   "cell_type": "code",
   "execution_count": 8,
   "metadata": {},
   "outputs": [],
   "source": [
    "text = \"\"\"\n",
    "Eurostar is the worst-performing rail service on the continent and Germany’s Deutsche Bahn is one of the least reliable, according to a ranking of 27 European operators.\n",
    "The report from the campaign group Transport and Environment (T&E) scored Europe’s rail operators on factors such as ticket prices, punctuality and willingness to give refunds. It found that only 11 operators had punctuality rates above 80%.\n",
    "Eurostar disputed the findings. Deutsche Bahn declined to comment.\n",
    "Trains emit less planet-heating gas than planes and cars, but on many routes holidaymakers find it cheaper to fly and commuters find it more reliable to drive. Campaigners said the results showed that all rail operators could do better, and encouraged governments to help them.\n",
    "Victor Thévenet, a rail expert at T&E and lead author of the report, said people wanted to travel by train but “many are stopped from doing so because the price is too high, especially for families, or because it’s not reliable”.\n",
    "T&E rated the companies on eight criteria covering cost and quality, giving more weight to factors that passengers said were important, such as ticket prices and special fares. Lesser factors such as bicycle policies and night train offerings contributed 5% each to the overall score.\n",
    "Italy’s Trenitalia scored highest in the ranking, with an average of 7.7 out of 10, followed by Switzerland’s SBB, the Czech Republic’s RegioJet, Austria’s ÖBB and France’s SNCF. At the bottom of the list were Eurostar, Greece’s Hellenic Train and France’s Ouigo.\n",
    "The report praised the UK for reimbursing customers for delays, but criticised the high price of its tickets. It found the three most expensive rail companies in Europe operate totally or partly in the UK. Eurostar, which serves routes such as London to Paris and Brussels, charges nearly twice the European average price per kilometre when comparing routes of comparable length, the report found.\n",
    "Eurostar said it had updated its booking experience and cycling policy since the data was collected, and relaunched a service to buy last-minute fares at discounted prices. It said it did not provide automated refunds for delays because it wanted to let customers choose the type of compensation they received.\n",
    "“We are confident that if this report were redone again, the scores would be higher,” a spokesperson said. “We’ve had a record number of passengers travel with us this year and we expect that figure to grow as we continue to invest in our service.”\n",
    "Thévenet attributed the high scores for Trenitalia to more than a decade of competition with Italo on Italy’s high-speed network, which has pushed both operators to provide a better service. He also praised Switzerland’s investments in its rail infrastructure, which helped SBB to offer the most punctual service.\n",
    "Europe has an extensive rail network, but passengers are often frustrated when travelling across countries because of the fragmented ticketing system. The European Commission plans to propose a simplified system next year to let customers buy a single ticket that maintains their rights in the event of a delay.\n",
    "“It is possible to build and run rail services that offer cheap, popular, low-carbon travel to meet the needs of most people,” said , a transport researcher at the University of Leeds who was not involved in the study. “Many of our European neighbours are already doing this, although there is also room for improvement as the report shows.”\n",
    "Train tickets in Europe cost about twice as much as plane tickets for the same routes, a Greenpeace report found last year, with “outrageous” tax breaks encouraging people to heat the planet as they head off on holiday.\n",
    "Transport experts say better railways will not stop the biggest source of plane pollution, which is long-haul flights. A study Morgan co-authored last month found that more than 40% of plane trips from UK airports had a rail alternative but those journeys made up only 14% of the country’s aviation emissions.\n",
    "“The problem is that while rail can be a good solution for lots of people and trips, it doesn’t make a massive difference to emissions,” he said. “The small number of people making the very long trips are responsible for most of the emissions.\n",
    "\"\"\""
   ]
  },
  {
   "cell_type": "code",
   "execution_count": 13,
   "metadata": {},
   "outputs": [
    {
     "data": {
      "text/plain": [
       "(['\\nEurostar is the worst-performing rail service on the continent and Germany’s Deutsche Bahn is one o',\n",
       "  'ent and Germany’s Deutsche Bahn is one of the least reliable, according to a ranking of 27 European ',\n",
       "  ', according to a ranking of 27 European operators.\\n\\nThe report from the campaign group Transport and',\n",
       "  'rt from the campaign group Transport and Environment (T&E) scored Europe’s rail operators on factors',\n",
       "  'cored Europe’s rail operators on factors such as ticket prices, punctuality and willingness to give ',\n",
       "  'es, punctuality and willingness to give refunds. It found that only 11 operators had punctuality rat',\n",
       "  'at only 11 operators had punctuality rates above 80%.\\n\\nEurostar disputed the findings. Deutsche Bahn',\n",
       "  'tar disputed the findings. Deutsche Bahn declined to comment.\\n\\nTrains emit less planet-heating gas t',\n",
       "  '.\\n\\nTrains emit less planet-heating gas than planes and cars, but on many routes holidaymakers find i',\n",
       "  ' but on many routes holidaymakers find it cheaper to fly and commuters find it more reliable to driv',\n",
       "  ' commuters find it more reliable to drive. Campaigners said the results showed that all rail operato',\n",
       "  'the results showed that all rail operators could do better, and encouraged governments to help them.',\n",
       "  'and encouraged governments to help them.\\n\\nVictor Thévenet, a rail expert at T&E and lead author of t',\n",
       "  ' rail expert at T&E and lead author of the report, said people wanted to travel by train but “many a',\n",
       "  'le wanted to travel by train but “many are stopped from doing so because the price is too high, espe',\n",
       "  'g so because the price is too high, especially for families, or because it’s not reliable”.\\n\\nT&E rat',\n",
       "  ' or because it’s not reliable”.\\n\\nT&E rated the companies on eight criteria covering cost and quality',\n",
       "  'eight criteria covering cost and quality, giving more weight to factors that passengers said were im',\n",
       "  ' to factors that passengers said were important, such as ticket prices and special fares. Lesser fac',\n",
       "  'ket prices and special fares. Lesser factors such as bicycle policies and night train offerings cont',\n",
       "  ' policies and night train offerings contributed 5% each to the overall score.\\n\\nItaly’s Trenitalia sc',\n",
       "  'he overall score.\\n\\nItaly’s Trenitalia scored highest in the ranking, with an average of 7.7 out of 1',\n",
       "  'ranking, with an average of 7.7 out of 10, followed by Switzerland’s SBB, the Czech Republic’s Regio',\n",
       "  'erland’s SBB, the Czech Republic’s RegioJet, Austria’s ÖBB and France’s SNCF. At the bottom of the l',\n",
       "  'nd France’s SNCF. At the bottom of the list were Eurostar, Greece’s Hellenic Train and France’s Ouig',\n",
       "  'reece’s Hellenic Train and France’s Ouigo.\\n\\nThe report praised the UK for reimbursing customers for ',\n",
       "  'ed the UK for reimbursing customers for delays, but criticised the high price of its tickets. It fou',\n",
       "  'ed the high price of its tickets. It found the three most expensive rail companies in Europe operate',\n",
       "  'pensive rail companies in Europe operate totally or partly in the UK. Eurostar, which serves routes ',\n",
       "  'n the UK. Eurostar, which serves routes such as London to Paris and Brussels, charges nearly twice t',\n",
       "  'ris and Brussels, charges nearly twice the European average price per kilometre when comparing route',\n",
       "  'price per kilometre when comparing routes of comparable length, the report found.\\n\\nEurostar said it ',\n",
       "  'th, the report found.\\n\\nEurostar said it had updated its booking experience and cycling policy since ',\n",
       "  'ing experience and cycling policy since the data was collected, and relaunched a service to buy last',\n",
       "  'ed, and relaunched a service to buy last-minute fares at discounted prices. It said it did not provi',\n",
       "  'counted prices. It said it did not provide automated refunds for delays because it wanted to let cus',\n",
       "  ' for delays because it wanted to let customers choose the type of compensation they received.\\n\\n“We a',\n",
       "  'pe of compensation they received.\\n\\n“We are confident that if this report were redone again, the scor',\n",
       "  ' this report were redone again, the scores would be higher,” a spokesperson said. “We’ve had a recor',\n",
       "  ' a spokesperson said. “We’ve had a record number of passengers travel with us this year and we expec',\n",
       "  'rs travel with us this year and we expect that figure to grow as we continue to invest in our servic',\n",
       "  'w as we continue to invest in our service.”\\n\\nThévenet attributed the high scores for Trenitalia to m',\n",
       "  'uted the high scores for Trenitalia to more than a decade of competition with Italo on Italy’s high-',\n",
       "  ' competition with Italo on Italy’s high-speed network, which has pushed both operators to provide a ',\n",
       "  ' has pushed both operators to provide a better service. He also praised Switzerland’s investments in',\n",
       "  'lso praised Switzerland’s investments in its rail infrastructure, which helped SBB to offer the most',\n",
       "  'ture, which helped SBB to offer the most punctual service.\\n\\nEurope has an extensive rail network, bu',\n",
       "  'Europe has an extensive rail network, but passengers are often frustrated when travelling across cou',\n",
       "  'en frustrated when travelling across countries because of the fragmented ticketing system. The Europ',\n",
       "  'e fragmented ticketing system. The European Commission plans to propose a simplified system next yea',\n",
       "  ' to propose a simplified system next year to let customers buy a single ticket that maintains their ',\n",
       "  'uy a single ticket that maintains their rights in the event of a delay.\\n\\n“It is possible to build an',\n",
       "  'of a delay.\\n\\n“It is possible to build and run rail services that offer cheap, popular, low-carbon tr',\n",
       "  'that offer cheap, popular, low-carbon travel to meet the needs of most people,” said , a transport r',\n",
       "  'ds of most people,” said , a transport researcher at the University of Leeds who was not involved in',\n",
       "  'versity of Leeds who was not involved in the study. “Many of our European neighbours are already doi',\n",
       "  ' our European neighbours are already doing this, although there is also room for improvement as the ',\n",
       "  'ere is also room for improvement as the report shows.”\\n\\nTrain tickets in Europe cost about twice as ',\n",
       "  'n tickets in Europe cost about twice as much as plane tickets for the same routes, a Greenpeace repo',\n",
       "  's for the same routes, a Greenpeace report found last year, with “outrageous” tax breaks encouraging',\n",
       "  'with “outrageous” tax breaks encouraging people to heat the planet as they head off on holiday.\\n\\nTra',\n",
       "  'planet as they head off on holiday.\\n\\nTransport experts say better railways will not stop the biggest',\n",
       "  'etter railways will not stop the biggest source of plane pollution, which is long-haul flights. A st',\n",
       "  'lution, which is long-haul flights. A study Morgan co-authored last month found that more than 40% o',\n",
       "  'ed last month found that more than 40% of plane trips from UK airports had a rail alternative but th',\n",
       "  'K airports had a rail alternative but those journeys made up only 14% of the country’s aviation emis',\n",
       "  ' only 14% of the country’s aviation emissions.\\n\\n“The problem is that while rail can be a good soluti',\n",
       "  ' is that while rail can be a good solution for lots of people and trips, it doesn’t make a massive d',\n",
       "  'e and trips, it doesn’t make a massive difference to emissions,” he said. “The small number of peopl',\n",
       "  'ns,” he said. “The small number of people making the very long trips are responsible for most of the',\n",
       "  'ng trips are responsible for most of the emissions.\\n'],\n",
       " {0: 0,\n",
       "  1: 0,\n",
       "  2: 0,\n",
       "  3: 0,\n",
       "  4: 0,\n",
       "  5: 0,\n",
       "  6: 0,\n",
       "  7: 0,\n",
       "  8: 0,\n",
       "  9: 0,\n",
       "  10: 0,\n",
       "  11: 0,\n",
       "  12: 0,\n",
       "  13: 0,\n",
       "  14: 0,\n",
       "  15: 0,\n",
       "  16: 0,\n",
       "  17: 0,\n",
       "  18: 0,\n",
       "  19: 0,\n",
       "  20: 0,\n",
       "  21: 0,\n",
       "  22: 0,\n",
       "  23: 0,\n",
       "  24: 0,\n",
       "  25: 0,\n",
       "  26: 0,\n",
       "  27: 0,\n",
       "  28: 0,\n",
       "  29: 0,\n",
       "  30: 0,\n",
       "  31: 0,\n",
       "  32: 0,\n",
       "  33: 0,\n",
       "  34: 0,\n",
       "  35: 0,\n",
       "  36: 0,\n",
       "  37: 0,\n",
       "  38: 0,\n",
       "  39: 0,\n",
       "  40: 0,\n",
       "  41: 0,\n",
       "  42: 0,\n",
       "  43: 0,\n",
       "  44: 0,\n",
       "  45: 0,\n",
       "  46: 0,\n",
       "  47: 0,\n",
       "  48: 0,\n",
       "  49: 0,\n",
       "  50: 0,\n",
       "  51: 0,\n",
       "  52: 0,\n",
       "  53: 0,\n",
       "  54: 0,\n",
       "  55: 0,\n",
       "  56: 0,\n",
       "  57: 0,\n",
       "  58: 0,\n",
       "  59: 0,\n",
       "  60: 0,\n",
       "  61: 0,\n",
       "  62: 0,\n",
       "  63: 0,\n",
       "  64: 0,\n",
       "  65: 0,\n",
       "  66: 0,\n",
       "  67: 0,\n",
       "  68: 0,\n",
       "  69: 0,\n",
       "  70: 0})"
      ]
     },
     "execution_count": 13,
     "metadata": {},
     "output_type": "execute_result"
    }
   ],
   "source": [
    "rag.get_chunks([text], n_chars = 100, n_overlap_chars=40)"
   ]
  },
  {
   "cell_type": "code",
   "execution_count": 20,
   "metadata": {},
   "outputs": [
    {
     "data": {
      "text/plain": [
       "(['\\nEurostar is the worst-performing rail service on the continent and Germany’s Deutsche Bahn is one of the least reliable, according to a ran',\n",
       "  'ent and Germany’s Deutsche Bahn is one of the least reliable, according to a ranking of 27 European operators.\\n\\nThe report from the campaign group Transport and Environment (T&E) s',\n",
       "  'operators.\\n\\nThe report from the campaign group Transport and Environment (T&E) scored Europe’s rail operators on factors such as ticket prices, punctuality and willingness to give ',\n",
       "  'operators on factors such as ticket prices, punctuality and willingness to give refunds. It found that only 11 operators had punctuality rates above 80%.\\n\\nEurostar disputed the fin',\n",
       "  'at only 11 operators had punctuality rates above 80%.\\n\\nEurostar disputed the findings. Deutsche Bahn declined to comment.\\n\\nTrains emit less planet-heating gas than planes and cars,',\n",
       "  ' declined to comment.\\n\\nTrains emit less planet-heating gas than planes and cars, but on many routes holidaymakers find it cheaper to fly and commuters find it more reliable to driv',\n",
       "  'holidaymakers find it cheaper to fly and commuters find it more reliable to drive. Campaigners said the results showed that all rail operators could do better, and encouraged gover',\n",
       "  'the results showed that all rail operators could do better, and encouraged governments to help them.\\n\\nVictor Thévenet, a rail expert at T&E and lead author of the report, said peop',\n",
       "  '\\n\\nVictor Thévenet, a rail expert at T&E and lead author of the report, said people wanted to travel by train but “many are stopped from doing so because the price is too high, espe',\n",
       "  'by train but “many are stopped from doing so because the price is too high, especially for families, or because it’s not reliable”.\\n\\nT&E rated the companies on eight criteria cover',\n",
       "  ' or because it’s not reliable”.\\n\\nT&E rated the companies on eight criteria covering cost and quality, giving more weight to factors that passengers said were important, such as tic',\n",
       "  ', giving more weight to factors that passengers said were important, such as ticket prices and special fares. Lesser factors such as bicycle policies and night train offerings cont',\n",
       "  'al fares. Lesser factors such as bicycle policies and night train offerings contributed 5% each to the overall score.\\n\\nItaly’s Trenitalia scored highest in the ranking, with an ave',\n",
       "  'he overall score.\\n\\nItaly’s Trenitalia scored highest in the ranking, with an average of 7.7 out of 10, followed by Switzerland’s SBB, the Czech Republic’s RegioJet, Austria’s ÖBB a',\n",
       "  '0, followed by Switzerland’s SBB, the Czech Republic’s RegioJet, Austria’s ÖBB and France’s SNCF. At the bottom of the list were Eurostar, Greece’s Hellenic Train and France’s Ouig',\n",
       "  ' the bottom of the list were Eurostar, Greece’s Hellenic Train and France’s Ouigo.\\n\\nThe report praised the UK for reimbursing customers for delays, but criticised the high price of',\n",
       "  'ed the UK for reimbursing customers for delays, but criticised the high price of its tickets. It found the three most expensive rail companies in Europe operate totally or partly i',\n",
       "  'nd the three most expensive rail companies in Europe operate totally or partly in the UK. Eurostar, which serves routes such as London to Paris and Brussels, charges nearly twice t',\n",
       "  'which serves routes such as London to Paris and Brussels, charges nearly twice the European average price per kilometre when comparing routes of comparable length, the report found',\n",
       "  'price per kilometre when comparing routes of comparable length, the report found.\\n\\nEurostar said it had updated its booking experience and cycling policy since the data was collect',\n",
       "  'had updated its booking experience and cycling policy since the data was collected, and relaunched a service to buy last-minute fares at discounted prices. It said it did not provi',\n",
       "  ' service to buy last-minute fares at discounted prices. It said it did not provide automated refunds for delays because it wanted to let customers choose the type of compensation t',\n",
       "  ' for delays because it wanted to let customers choose the type of compensation they received.\\n\\n“We are confident that if this report were redone again, the scores would be higher,”',\n",
       "  're confident that if this report were redone again, the scores would be higher,” a spokesperson said. “We’ve had a record number of passengers travel with us this year and we expec',\n",
       "  '. “We’ve had a record number of passengers travel with us this year and we expect that figure to grow as we continue to invest in our service.”\\n\\nThévenet attributed the high scores',\n",
       "  'w as we continue to invest in our service.”\\n\\nThévenet attributed the high scores for Trenitalia to more than a decade of competition with Italo on Italy’s high-speed network, which',\n",
       "  'ore than a decade of competition with Italo on Italy’s high-speed network, which has pushed both operators to provide a better service. He also praised Switzerland’s investments in',\n",
       "  'rators to provide a better service. He also praised Switzerland’s investments in its rail infrastructure, which helped SBB to offer the most punctual service.\\n\\nEurope has an extens',\n",
       "  'ture, which helped SBB to offer the most punctual service.\\n\\nEurope has an extensive rail network, but passengers are often frustrated when travelling across countries because of th',\n",
       "  't passengers are often frustrated when travelling across countries because of the fragmented ticketing system. The European Commission plans to propose a simplified system next yea',\n",
       "  'ng system. The European Commission plans to propose a simplified system next year to let customers buy a single ticket that maintains their rights in the event of a delay.\\n\\n“It is ',\n",
       "  'uy a single ticket that maintains their rights in the event of a delay.\\n\\n“It is possible to build and run rail services that offer cheap, popular, low-carbon travel to meet the nee',\n",
       "  'd run rail services that offer cheap, popular, low-carbon travel to meet the needs of most people,” said , a transport researcher at the University of Leeds who was not involved in',\n",
       "  'said , a transport researcher at the University of Leeds who was not involved in the study. “Many of our European neighbours are already doing this, although there is also room for',\n",
       "  ' our European neighbours are already doing this, although there is also room for improvement as the report shows.”\\n\\nTrain tickets in Europe cost about twice as much as plane ticket',\n",
       "  'report shows.”\\n\\nTrain tickets in Europe cost about twice as much as plane tickets for the same routes, a Greenpeace report found last year, with “outrageous” tax breaks encouraging',\n",
       "  's, a Greenpeace report found last year, with “outrageous” tax breaks encouraging people to heat the planet as they head off on holiday.\\n\\nTransport experts say better railways will ',\n",
       "  'planet as they head off on holiday.\\n\\nTransport experts say better railways will not stop the biggest source of plane pollution, which is long-haul flights. A study Morgan co-author',\n",
       "  ' source of plane pollution, which is long-haul flights. A study Morgan co-authored last month found that more than 40% of plane trips from UK airports had a rail alternative but th',\n",
       "  'that more than 40% of plane trips from UK airports had a rail alternative but those journeys made up only 14% of the country’s aviation emissions.\\n\\n“The problem is that while rail ',\n",
       "  ' only 14% of the country’s aviation emissions.\\n\\n“The problem is that while rail can be a good solution for lots of people and trips, it doesn’t make a massive difference to emissio',\n",
       "  'on for lots of people and trips, it doesn’t make a massive difference to emissions,” he said. “The small number of people making the very long trips are responsible for most of the',\n",
       "  'mall number of people making the very long trips are responsible for most of the emissions.\\n'],\n",
       " {0: 0,\n",
       "  1: 0,\n",
       "  2: 0,\n",
       "  3: 0,\n",
       "  4: 0,\n",
       "  5: 0,\n",
       "  6: 0,\n",
       "  7: 0,\n",
       "  8: 0,\n",
       "  9: 0,\n",
       "  10: 0,\n",
       "  11: 0,\n",
       "  12: 0,\n",
       "  13: 0,\n",
       "  14: 0,\n",
       "  15: 0,\n",
       "  16: 0,\n",
       "  17: 0,\n",
       "  18: 0,\n",
       "  19: 0,\n",
       "  20: 0,\n",
       "  21: 0,\n",
       "  22: 0,\n",
       "  23: 0,\n",
       "  24: 0,\n",
       "  25: 0,\n",
       "  26: 0,\n",
       "  27: 0,\n",
       "  28: 0,\n",
       "  29: 0,\n",
       "  30: 0,\n",
       "  31: 0,\n",
       "  32: 0,\n",
       "  33: 0,\n",
       "  34: 0,\n",
       "  35: 0,\n",
       "  36: 0,\n",
       "  37: 0,\n",
       "  38: 0,\n",
       "  39: 0,\n",
       "  40: 0,\n",
       "  41: 0,\n",
       "  42: 0})"
      ]
     },
     "execution_count": 20,
     "metadata": {},
     "output_type": "execute_result"
    }
   ],
   "source": [
    "def get_chunks_v2(texts, n_chars, n_overlap_chars=0) -> tuple:\n",
    "    \"\"\"\n",
    "    simple chunker to split texts into chunks based on character length and overlap\n",
    "    args:\n",
    "        texts: list of str: texts to split into chunks\n",
    "        n_chars: int: number of characters per chunk\n",
    "        n_overlap_chars: int: number of characters to overlap between chunks\n",
    "    returns:\n",
    "        tuple: list of chunks, chunk map\n",
    "    \"\"\"\n",
    "    map_chunks = {}\n",
    "    chunk_count = 0\n",
    "    chunks = []\n",
    "    for idx, text in enumerate(texts):\n",
    "        for i in range(0, len(text), n_chars ):\n",
    "            text_from = max(0, i - n_overlap_chars)\n",
    "            text_to = min(len(text), i + n_chars + n_overlap_chars)\n",
    "            chunks.append(text[text_from: text_to])\n",
    "            map_chunks[chunk_count] = idx\n",
    "            chunk_count += 1\n",
    "    return chunks, map_chunks\n",
    "\n",
    "get_chunks_v2([text], n_chars = 100, n_overlap_chars=40)"
   ]
  },
  {
   "cell_type": "code",
   "execution_count": 15,
   "metadata": {},
   "outputs": [
    {
     "name": "stderr",
     "output_type": "stream",
     "text": [
      "INFO:root:sampling first 10 questions out of 107\n"
     ]
    },
    {
     "data": {
      "text/plain": [
       "(['What are the benefits of the mobile app?',\n",
       "  'What are the benefits of the desktop app?',\n",
       "  'What are the benefits of the partnership?',\n",
       "  'What are the trade-offs of a web-first approach?',\n",
       "  'What are the benefits of a mobile-first approach?',\n",
       "  'What are the benefits of a Fast Follower approach?',\n",
       "  'What are the risks of a Fast Follower approach?',\n",
       "  'What are the benefits of a cross-platform approach?',\n",
       "  'What are the risks of a cross-platform approach?',\n",
       "  'What is the goal of John Lewis & Partners?'],\n",
       " [0, 0, 0, 1, 1, 1, 1, 1, 1, 2],\n",
       " ['The benefits of the mobile app include efficient management of training courses, reduced administrative time, the ability to deliver refresher courses remotely, and the creation of valuable content accessible in perpetuity. Additionally, it allowed Move 4 Life to engage more deeply with corporate clients and facilitated the signing up of 6,000 customers for online coursework within the first month of launch.',\n",
       "  'The benefits of the desktop app include facilitating a high-quality user experience for staff working in an office setting and allowing flexible reformatting of the application components for desktop use without disrupting the initial development timeline.',\n",
       "  \"The benefits of the partnership include automating key business processes, freeing up time for more valuable initiatives, extending engagement with corporate clients through remote content delivery, and supporting Move 4 Life's transition to a digital-first organization with ongoing technical and user experience enhancements.\",\n",
       "  'A web-first approach is not typically preferred for frequent, on-the-go use, but it prioritizes speed-to-market, risk, and cost reduction.',\n",
       "  'The benefits of a mobile-first approach include improved end-user experience, increased reach, adoption, and customer engagement, as well as higher customer preference for apps over web on mobile devices, leading to more frequent purchases and longer usage times.',\n",
       "  \"The benefits of a Fast Follower approach include reduced costs and faster production by initially focusing on the primary mobile OS and quickly following with the second, minimizing rework and leveraging established requirements and designs. This approach proved to be 50% less onerous in time and materials for Pret's Android app development.\",\n",
       "  'The risks of a Fast Follower approach include the potential for rework during the early discovery stages, which can be minimized by initially focusing on the primary mobile OS before quickly following with the second. This approach also carries the risk of serving a smaller percentage of customers initially, which requires efficiencies to improve the business case.',\n",
       "  'The benefits of a cross-platform approach include improved customer engagement and increased sales, as mobile apps provide a more convenient and preferred experience for on-the-go users, leading to higher adoption and usage rates. Additionally, a cross-platform strategy allows for efficient scaling and flexibility in extending propositions to multiple platforms, supporting broader business strategies.',\n",
       "  'The risks of a cross-platform approach include additional overhead from building simultaneously for multiple platforms, inherent costs from multiple teams working on undefined requirements, and the potential for inefficiencies compared to using well-understood native development technologies.',\n",
       "  'The goal of John Lewis & Partners was to scale delivery to many product teams in parallel, accelerate deployments from weekly to daily, improve johnlewis.com reliability, and encourage teams to increase quality and share knowledge.'])"
      ]
     },
     "execution_count": 15,
     "metadata": {},
     "output_type": "execute_result"
    }
   ],
   "source": [
    "rag.get_test_data(n_samples=10)"
   ]
  },
  {
   "cell_type": "code",
   "execution_count": null,
   "metadata": {},
   "outputs": [],
   "source": []
  }
 ],
 "metadata": {
  "kernelspec": {
   "display_name": "env_ee4",
   "language": "python",
   "name": "python3"
  },
  "language_info": {
   "codemirror_mode": {
    "name": "ipython",
    "version": 3
   },
   "file_extension": ".py",
   "mimetype": "text/x-python",
   "name": "python",
   "nbconvert_exporter": "python",
   "pygments_lexer": "ipython3",
   "version": "3.11.10"
  }
 },
 "nbformat": 4,
 "nbformat_minor": 2
}
